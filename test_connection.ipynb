{
 "cells": [
  {
   "cell_type": "code",
   "execution_count": null,
   "metadata": {},
   "outputs": [
    {
     "ename": "",
     "evalue": "",
     "output_type": "error",
     "traceback": [
      "\u001b[1;31mRunning cells with 'bioblend' requires the ipykernel package.\n",
      "\u001b[1;31mRun the following command to install 'ipykernel' into the Python environment. \n",
      "\u001b[1;31mCommand: 'conda install -n bioblend ipykernel --update-deps --force-reinstall'"
     ]
    }
   ],
   "source": [
    "from bioblend.galaxy import objects\n",
    "from bioblend.galaxy import GalaxyInstance\n",
    "from bioblend.galaxy.histories import HistoryClient\n",
    "from bioblend.galaxy.datasets import DatasetClient\n",
    "from bioblend.galaxy.dataset_collections import DatasetCollectionClient"
   ]
  },
  {
   "cell_type": "code",
   "execution_count": 2,
   "metadata": {},
   "outputs": [
    {
     "data": {
      "text/plain": [
       "{'model_class': 'History',\n",
       " 'id': '33b43b4e7093c91f',\n",
       " 'name': 'Unnamed history',\n",
       " 'deleted': False,\n",
       " 'purged': False,\n",
       " 'archived': False,\n",
       " 'url': '/api/histories/33b43b4e7093c91f',\n",
       " 'published': False,\n",
       " 'count': 2,\n",
       " 'annotation': None,\n",
       " 'tags': [],\n",
       " 'update_time': '2024-10-24T12:03:51.135000',\n",
       " 'preferred_object_store_id': None,\n",
       " 'contents_url': '/api/histories/33b43b4e7093c91f/contents',\n",
       " 'size': 0,\n",
       " 'user_id': 'f2db41e1fa331b3e',\n",
       " 'create_time': '2024-10-23T15:56:30.845783',\n",
       " 'importable': False,\n",
       " 'slug': None,\n",
       " 'username': 'paul',\n",
       " 'username_and_slug': None,\n",
       " 'genome_build': '?',\n",
       " 'state': 'ok',\n",
       " 'state_ids': {'new': [],\n",
       "  'upload': [],\n",
       "  'queued': [],\n",
       "  'running': [],\n",
       "  'ok': [],\n",
       "  'empty': [],\n",
       "  'error': [],\n",
       "  'paused': [],\n",
       "  'setting_metadata': [],\n",
       "  'failed_metadata': [],\n",
       "  'deferred': [],\n",
       "  'discarded': []},\n",
       " 'state_details': {'new': 0,\n",
       "  'upload': 0,\n",
       "  'queued': 0,\n",
       "  'running': 0,\n",
       "  'ok': 0,\n",
       "  'empty': 0,\n",
       "  'error': 0,\n",
       "  'paused': 0,\n",
       "  'setting_metadata': 0,\n",
       "  'failed_metadata': 0,\n",
       "  'deferred': 0,\n",
       "  'discarded': 0}}"
      ]
     },
     "execution_count": 2,
     "metadata": {},
     "output_type": "execute_result"
    }
   ],
   "source": [
    "url = \"http://10.126.153.9:8080\"\n",
    "key = \"c063a76d10cc8b24678ad116a278283f\"\n",
    "key = None\n",
    "history_id =  \"03501d7626bd192f\"\n",
    "\n",
    "\n",
    "gi = GalaxyInstance(url=url, key=key)\n",
    "gi.histories.show_history(history_id)"
   ]
  }
 ],
 "metadata": {
  "kernelspec": {
   "display_name": "galaxy_tool_extractor",
   "language": "python",
   "name": "python3"
  },
  "language_info": {
   "codemirror_mode": {
    "name": "ipython",
    "version": 3
   },
   "file_extension": ".py",
   "mimetype": "text/x-python",
   "name": "python",
   "nbconvert_exporter": "python",
   "pygments_lexer": "ipython3",
   "version": "3.13.0"
  }
 },
 "nbformat": 4,
 "nbformat_minor": 2
}
